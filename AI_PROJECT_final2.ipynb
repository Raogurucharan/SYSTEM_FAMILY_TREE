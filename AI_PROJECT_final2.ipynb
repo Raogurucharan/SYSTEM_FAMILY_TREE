{
 "cells": [
  {
   "cell_type": "code",
   "execution_count": null,
   "metadata": {},
   "outputs": [],
   "source": [
    "# THIS IS A AI PROJECT FROM GR-8\n",
    "# ie SYSTEM FAMILY TREE\n",
    "# MEMBERS\n",
    "# ->GURUCHARAN RAO [11804634]\n",
    "# _>DINESH         [11804613]\n",
    "# ->SWARNA KIRAN   [11804643]\n",
    "# ->SRIKANTH       [11804655 ]\n",
    "# These relationships are specified in a file called famtree.json"
   ]
  },
  {
   "cell_type": "code",
   "execution_count": null,
   "metadata": {},
   "outputs": [],
   "source": [
    "import json \n",
    "from logpy import Relation, facts, run, conde, var, eq "
   ]
  },
  {
   "cell_type": "code",
   "execution_count": 4,
   "metadata": {},
   "outputs": [],
   "source": [
    "#WE MADE a function to check if x is the parent of y\n",
    " \n",
    "def parent(x, y): \n",
    "    return conde([father(x, y)], [mother(x, y)]) \n"
   ]
  },
  {
   "cell_type": "code",
   "execution_count": 5,
   "metadata": {},
   "outputs": [],
   "source": [
    "#CREATING a function to check if x is the grandparent of y. \n",
    "# the logic is simple that if x is the grandparent of y, then the offsprings of x will be the parent of y\n",
    "# Check if 'x' is the grandparent of 'y' \n",
    "def grandparent(x, y): \n",
    "    temp = var() \n",
    "    return conde((parent(x, temp), parent(temp, y))) \n"
   ]
  },
  {
   "cell_type": "code",
   "execution_count": 6,
   "metadata": {},
   "outputs": [],
   "source": [
    "# Check for sibling relationship between 'a' and 'b'   \n",
    "def sibling(x, y): \n",
    "    temp = var() \n",
    "    return conde((parent(temp, x), parent(temp, y))) "
   ]
  },
  {
   "cell_type": "code",
   "execution_count": null,
   "metadata": {},
   "outputs": [],
   "source": [
    "if __name__=='__main__': \n",
    "    father = Relation() \n",
    "    mother = Relation() \n"
   ]
  },
  {
   "cell_type": "code",
   "execution_count": null,
   "metadata": {},
   "outputs": [],
   "source": [
    "    with open('famtree.json') as f: \n",
    "        d = json.loads(f.read()) "
   ]
  },
  {
   "cell_type": "code",
   "execution_count": null,
   "metadata": {},
   "outputs": [],
   "source": [
    "    for item in d['father']: \n",
    "        facts(father, (list(item.keys())[0], list(item.values())[0])) \n",
    " \n",
    "    for item in d['mother']: \n",
    "        facts(mother, (list(item.keys())[0], list(item.values())[0])) \n"
   ]
  },
  {
   "cell_type": "code",
   "execution_count": null,
   "metadata": {},
   "outputs": [],
   "source": [
    "  x = var() "
   ]
  },
  {
   "cell_type": "code",
   "execution_count": null,
   "metadata": {},
   "outputs": [],
   "source": [
    "    #  children of pandu \n",
    "    name = 'pandu' \n",
    "    output = run(0, x, father(name, x)) \n",
    "    print(\"\\nList of \" + name + \"'s children:\") \n",
    "    for item in output: \n",
    "        print(item) \n"
   ]
  },
  {
   "cell_type": "code",
   "execution_count": null,
   "metadata": {},
   "outputs": [],
   "source": [
    "    # arjunas mother \n",
    "    name = 'arjuna' \n",
    "    output = run(0, x, mother(x, name))[0] \n",
    "    print(\"\\n\" + name + \"'s mother:\\n\" + output) \n"
   ]
  },
  {
   "cell_type": "code",
   "execution_count": null,
   "metadata": {},
   "outputs": [],
   "source": [
    "    # yudistiras parent parents  \n",
    "    name = 'yudistira' \n",
    "    output = run(0, x, parent(x, name)) \n",
    "    print(\"\\nList of \" + name + \"'s parents:\") \n",
    "    for item in output: \n",
    "        print(item) \n"
   ]
  },
  {
   "cell_type": "code",
   "execution_count": null,
   "metadata": {},
   "outputs": [],
   "source": [
    "    # gatog grandparents  \n",
    "    name = 'gatog' \n",
    "    output = run(0, x, grandparent(x, name)) \n",
    "    print(\"\\nList of \" + name + \"'s grandparents:\") \n",
    "    for item in output: \n",
    "        print(item) \n"
   ]
  },
  {
   "cell_type": "code",
   "execution_count": null,
   "metadata": {},
   "outputs": [],
   "source": [
    "    # kunti grandchildren  \n",
    "    name = 'kunti' \n",
    "    output = run(0, x, grandparent(name, x)) \n",
    "    print(\"\\nList of \" + name + \"'s grandchildren:\") \n",
    "    for item in output: \n",
    "        print(item) \n"
   ]
  },
  {
   "cell_type": "code",
   "execution_count": null,
   "metadata": {},
   "outputs": [],
   "source": [
    "    # bhima siblings  \n",
    "    name = 'bhima' \n",
    "    output = run(0, x, sibling(x, name)) \n",
    "    siblings = [x for x in output if x != name] \n",
    "    print(\"\\nList of \" + name + \"'s siblings:\") \n",
    "    for item in siblings: \n",
    "        print(item) "
   ]
  },
  {
   "cell_type": "code",
   "execution_count": null,
   "metadata": {},
   "outputs": [],
   "source": [
    " # sutasoma uncles \n",
    "    name = 'sutasoma' \n",
    "    name_father = run(0, x, father(x, name))[0] \n",
    "    output = run(0, x, uncle(x, name)) \n",
    "    output = [x for x in output if x != name_father] \n",
    "    print(\"\\nList of \" + name + \"'s uncles:\") \n",
    "    for item in output: \n",
    "        print(item) "
   ]
  },
  {
   "cell_type": "code",
   "execution_count": null,
   "metadata": {},
   "outputs": [],
   "source": [
    "    # All wives\n",
    "    a, b, c = var(), var(), var() \n",
    "    output = run(0, (a, b), (father, a, c), (mother, b, c)) \n",
    "    print(\"\\nList of all spouses:\") \n",
    "    for item in output: \n",
    "        print('Husband:', item[0], '<==> Wife:', item[1]) \n"
   ]
  }
 ],
 "metadata": {
  "kernelspec": {
   "display_name": "Python 3",
   "language": "python",
   "name": "python3"
  },
  "language_info": {
   "codemirror_mode": {
    "name": "ipython",
    "version": 3
   },
   "file_extension": ".py",
   "mimetype": "text/x-python",
   "name": "python",
   "nbconvert_exporter": "python",
   "pygments_lexer": "ipython3",
   "version": "3.6.5"
  }
 },
 "nbformat": 4,
 "nbformat_minor": 2
}
